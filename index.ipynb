{
 "cells": [
  {
   "cell_type": "markdown",
   "metadata": {
    "slideshow": {
     "slide_type": "slide"
    }
   },
   "source": [
    "<center><h2><code>from python_spain import community</code></h2></center>\n",
    "\n",
    "<center><h2>Once upon a time</h2></center>\n",
    "\n",
    "<center><h3><em>Kiko Correoso, VP of Python España society</em></h3></center>"
   ]
  },
  {
   "cell_type": "markdown",
   "metadata": {
    "slideshow": {
     "slide_type": "slide"
    }
   },
   "source": [
    "Some years ago in the python-es mail list a discussion started."
   ]
  },
  {
   "cell_type": "markdown",
   "metadata": {
    "slideshow": {
     "slide_type": "fragment"
    }
   },
   "source": [
    "Some time later:"
   ]
  },
  {
   "cell_type": "markdown",
   "metadata": {
    "collapsed": true,
    "slideshow": {
     "slide_type": "fragment"
    }
   },
   "source": [
    "<iframe src=\"http://documentos-asociacion.es.python.org/actas/acta-2013-01-22-fundacional.html\" height=\"250px\" width=\"100%\"></iframe>"
   ]
  },
  {
   "cell_type": "markdown",
   "metadata": {
    "slideshow": {
     "slide_type": "slide"
    }
   },
   "source": [
    "On early 2013 there was only Python-Madrid as a regular established meetup."
   ]
  },
  {
   "cell_type": "markdown",
   "metadata": {
    "slideshow": {
     "slide_type": "fragment"
    }
   },
   "source": [
    "<iframe src=\"http://2013.es.pycon.org/\" height=\"250px\" width=\"100%\"></iframe>"
   ]
  },
  {
   "cell_type": "markdown",
   "metadata": {
    "slideshow": {
     "slide_type": "fragment"
    }
   },
   "source": [
    "<iframe src=\"http://calendario.es.python.org/2013/index.html\" height=\"250px\" width=\"100%\"></iframe>"
   ]
  },
  {
   "cell_type": "markdown",
   "metadata": {
    "slideshow": {
     "slide_type": "slide"
    }
   },
   "source": [
    "Nowadays:"
   ]
  },
  {
   "cell_type": "markdown",
   "metadata": {
    "slideshow": {
     "slide_type": "fragment"
    }
   },
   "source": [
    "<iframe src=\"http://calendario.es.python.org/2015/index.html\" height=\"250px\" width=\"100%\"></iframe>"
   ]
  },
  {
   "cell_type": "markdown",
   "metadata": {
    "slideshow": {
     "slide_type": "fragment"
    }
   },
   "source": [
    "During 2015 there have been events on Alicante, Barcelona, Granada, Madrid, Mallorca, Salamanca, San Sebastian, Sevilla, Tenerife, Valencia, Vigo"
   ]
  },
  {
   "cell_type": "markdown",
   "metadata": {
    "slideshow": {
     "slide_type": "slide"
    }
   },
   "source": [
    "During 2015 we will have the third PyConES (Sold out!!!)"
   ]
  },
  {
   "cell_type": "markdown",
   "metadata": {
    "slideshow": {
     "slide_type": "subslide"
    }
   },
   "source": [
    "<blockquote class=\"twitter-tweet\" lang=\"en\"><p lang=\"es\" dir=\"ltr\">Que no cunda el pánico pero...&#10;&#10;¡Se han agotado las entradas para la <a href=\"https://twitter.com/hashtag/PyConES15?src=hash\">#PyConES15</a>! 😲😲😲&#10;&#10;¡Nos vemos en Valencia!</p>&mdash; PyCon España (@PyConES) <a href=\"https://twitter.com/PyConES/status/654376255811375105\">October 14, 2015</a></blockquote>\n",
    "<script async src=\"//platform.twitter.com/widgets.js\" charset=\"utf-8\"></script>"
   ]
  },
  {
   "cell_type": "markdown",
   "metadata": {
    "slideshow": {
     "slide_type": "subslide"
    }
   },
   "source": [
    "<blockquote class=\"twitter-tweet\" lang=\"en\"><p lang=\"es\" dir=\"ltr\">Buscando desesperadamente 1 entrada para la <a href=\"https://twitter.com/hashtag/pycones2015?src=hash\">#pycones2015</a> <a href=\"https://twitter.com/PyConES\">@PyConES</a>, si las <a href=\"https://twitter.com/DjangoGirlsES\">@DjangoGirlsES</a> no me cogen voy a perderme algo grande! :(</p>&mdash; Claudia Guirao (@claudiaguirao) <a href=\"https://twitter.com/claudiaguirao/status/655829587256025088\">October 18, 2015</a></blockquote>\n",
    "<script async src=\"//platform.twitter.com/widgets.js\" charset=\"utf-8\"></script>"
   ]
  },
  {
   "cell_type": "markdown",
   "metadata": {
    "slideshow": {
     "slide_type": "subslide"
    }
   },
   "source": [
    "<blockquote class=\"twitter-tweet\" lang=\"en\"><p lang=\"es\" dir=\"ltr\"><a href=\"https://twitter.com/hashtag/PyConES15?src=hash\">#PyConES15</a> Hola, necesito unas entradas que no tuve tiempo de comprar. Si tenéis de sobras me podéis escribir y lo arreglamos. Gracias!</p>&mdash; Miquel (@miquel_tweets) <a href=\"https://twitter.com/miquel_tweets/status/654779804139425792\">October 15, 2015</a></blockquote>\n",
    "<script async src=\"//platform.twitter.com/widgets.js\" charset=\"utf-8\"></script>"
   ]
  },
  {
   "cell_type": "markdown",
   "metadata": {
    "slideshow": {
     "slide_type": "subslide"
    }
   },
   "source": [
    "<blockquote class=\"twitter-tweet\" lang=\"en\"><p lang=\"es\" dir=\"ltr\"><a href=\"https://twitter.com/monobotBlog\">@monobotBlog</a> <a href=\"https://twitter.com/PyConES\">@PyConES</a> <a href=\"https://twitter.com/python_es\">@python_es</a> Necesito 3 entradas para Pycon, si a alguien le interesa vender alguna, escribidme. Gracias</p>&mdash; Javier del Saz (@JavierdelSaz) <a href=\"https://twitter.com/JavierdelSaz/status/654597663409704960\">October 15, 2015</a></blockquote>\n",
    "<script async src=\"//platform.twitter.com/widgets.js\" charset=\"utf-8\"></script>"
   ]
  },
  {
   "cell_type": "markdown",
   "metadata": {
    "slideshow": {
     "slide_type": "subslide"
    }
   },
   "source": [
    "<br>\n",
    "<div style=\"font-size:50px;text-align:center;\">\n",
    "  ...\n",
    "</div>\n",
    " <br>"
   ]
  },
  {
   "cell_type": "markdown",
   "metadata": {
    "slideshow": {
     "slide_type": "subslide"
    }
   },
   "source": [
    "And the EuroPython was held in Bilbao for the first time\n",
    "\n",
    "If you couldn't go this year you could try 2016 because..."
   ]
  },
  {
   "cell_type": "markdown",
   "metadata": {
    "slideshow": {
     "slide_type": "subslide"
    }
   },
   "source": [
    "<br>\n",
    "<div style=\"font-size:40px;text-align:center;\">\n",
    "  EuroPython &#9825; Bilbao\n",
    "</div>\n",
    " <br>"
   ]
  },
  {
   "cell_type": "markdown",
   "metadata": {
    "slideshow": {
     "slide_type": "slide"
    }
   },
   "source": [
    "The association provide some help to local groups:"
   ]
  },
  {
   "cell_type": "markdown",
   "metadata": {
    "collapsed": true,
    "slideshow": {
     "slide_type": "fragment"
    }
   },
   "source": [
    "<iframe src=\"http://www.es.python.org/community/events\" height=\"250px\" width=\"100%\"></iframe>"
   ]
  },
  {
   "cell_type": "markdown",
   "metadata": {
    "slideshow": {
     "slide_type": "slide"
    }
   },
   "source": [
    "The association provide some help to their affiliates:"
   ]
  },
  {
   "cell_type": "markdown",
   "metadata": {
    "slideshow": {
     "slide_type": "fragment"
    }
   },
   "source": [
    "<iframe src=\"http://www.es.python.org/faq\" height=\"250px\" width=\"100%\"></iframe>"
   ]
  },
  {
   "cell_type": "markdown",
   "metadata": {
    "slideshow": {
     "slide_type": "slide"
    }
   },
   "source": [
    "The association tries to promote the Python Code of Conduct:"
   ]
  },
  {
   "cell_type": "markdown",
   "metadata": {
    "slideshow": {
     "slide_type": "fragment"
    }
   },
   "source": [
    "<iframe src=\"https://github.com/python/pycon-code-of-conduct/blob/master/code_of_conduct.md#the-short-version\" height=\"250px\" width=\"100%\"></iframe>"
   ]
  },
  {
   "cell_type": "markdown",
   "metadata": {
    "slideshow": {
     "slide_type": "subslide"
    }
   },
   "source": [
    "e.g., DjangoGirls\n",
    "\n",
    "<iframe src=\"https://djangogirls.org/pycones2015/\" height=\"250px\" width=\"100%\"></iframe>"
   ]
  },
  {
   "cell_type": "markdown",
   "metadata": {
    "slideshow": {
     "slide_type": "slide"
    }
   },
   "source": [
    "<br>\n",
    "<div style=\"font-size:40px;text-align:center;\">\n",
    "  But...\n",
    "</div>\n",
    "<br>"
   ]
  },
  {
   "cell_type": "markdown",
   "metadata": {
    "slideshow": {
     "slide_type": "fragment"
    }
   },
   "source": [
    "<br>\n",
    "<div style=\"font-size:40px;text-align:center;\">\n",
    "  ...not everything that shines is made out of gold\n",
    "</div>\n",
    "<br>"
   ]
  },
  {
   "cell_type": "markdown",
   "metadata": {
    "collapsed": true,
    "slideshow": {
     "slide_type": "slide"
    }
   },
   "source": [
    "<br>\n",
    "<div style=\"font-size:20px;text-align:center;\">\n",
    "  The number of <u><b>affiliates<b></u> is quite moderate.\n",
    "</div>\n",
    "<br>"
   ]
  },
  {
   "cell_type": "markdown",
   "metadata": {
    "slideshow": {
     "slide_type": "fragment"
    }
   },
   "source": [
    "* We raffled prizes between the affiliates."
   ]
  },
  {
   "cell_type": "markdown",
   "metadata": {
    "slideshow": {
     "slide_type": "fragment"
    }
   },
   "source": [
    "* We have negotiated book, workshops and conferences discounts for the affiliates."
   ]
  },
  {
   "cell_type": "markdown",
   "metadata": {
    "slideshow": {
     "slide_type": "fragment"
    }
   },
   "source": [
    "* We made campaigns with prizes if one affiliates during the campaign period."
   ]
  },
  {
   "cell_type": "markdown",
   "metadata": {
    "slideshow": {
     "slide_type": "fragment"
    }
   },
   "source": [
    "* ..."
   ]
  },
  {
   "cell_type": "markdown",
   "metadata": {
    "slideshow": {
     "slide_type": "fragment"
    }
   },
   "source": [
    "The value of some of the previous items is higher than the affiliation cost."
   ]
  },
  {
   "cell_type": "markdown",
   "metadata": {
    "slideshow": {
     "slide_type": "slide"
    }
   },
   "source": [
    "<br>\n",
    "<div style=\"font-size:20px;text-align:center;\">\n",
    "  For the <u><b>local events</b></u>\n",
    "</div>\n",
    "<br>"
   ]
  },
  {
   "cell_type": "markdown",
   "metadata": {
    "slideshow": {
     "slide_type": "fragment"
    }
   },
   "source": [
    "* Sometimes it is difficult to find a place for the meetup. In some small places can be more difficult."
   ]
  },
  {
   "cell_type": "markdown",
   "metadata": {
    "slideshow": {
     "slide_type": "fragment"
    }
   },
   "source": [
    "* Sometimes it is difficult to find speakers. We have tried to provide some prizes for speakers that could be managed by the local events organizers."
   ]
  },
  {
   "cell_type": "markdown",
   "metadata": {
    "slideshow": {
     "slide_type": "fragment"
    }
   },
   "source": [
    "* Sometimes it is difficul to manage the attendance due to restrictions imposed by the place (id, size, location,...)."
   ]
  },
  {
   "cell_type": "markdown",
   "metadata": {
    "slideshow": {
     "slide_type": "fragment"
    }
   },
   "source": [
    "* ..."
   ]
  },
  {
   "cell_type": "markdown",
   "metadata": {
    "slideshow": {
     "slide_type": "fragment"
    }
   },
   "source": [
    "<br>\n",
    "<div style=\"font-size:20px;text-align:center;\">\n",
    "  <u><b>General tasks<b></u> that the Association can't afford due to a lack of time.\n",
    "</div>\n",
    "<br>"
   ]
  },
  {
   "cell_type": "markdown",
   "metadata": {
    "slideshow": {
     "slide_type": "fragment"
    }
   },
   "source": [
    "Sometimes we have tried to involve the community to help us in some tasks and the results are quite irregular."
   ]
  },
  {
   "cell_type": "markdown",
   "metadata": {
    "slideshow": {
     "slide_type": "fragment"
    }
   },
   "source": [
    "* Python Podcast in spanish (&#10004;) (\\*)\n",
    "* OpenBadges (&#10004;) (\\*)\n",
    "* Calendar (&#10004;) (\\*)\n",
    "\n",
    "(\\*) Behind this there is the same person that is part of the board od the association.\n",
    "\n",
    "* Other administration tasks (&#10008;)"
   ]
  },
  {
   "cell_type": "markdown",
   "metadata": {
    "slideshow": {
     "slide_type": "slide"
    }
   },
   "source": [
    "<br>\n",
    "<div style=\"font-size:40px;text-align:center;\">\n",
    "  Ideas to improve are welcome!!!\n",
    "</div>\n",
    "<br>"
   ]
  },
  {
   "cell_type": "markdown",
   "metadata": {
    "slideshow": {
     "slide_type": "fragment"
    }
   },
   "source": [
    "<br>\n",
    "<div style=\"font-size:40px;text-align:center;\">\n",
    "  Thanks\n",
    "</div>\n",
    "<br>"
   ]
  }
 ],
 "metadata": {
  "celltoolbar": "Slideshow",
  "kernelspec": {
   "display_name": "Python 3",
   "language": "python",
   "name": "python3"
  },
  "language_info": {
   "codemirror_mode": {
    "name": "ipython",
    "version": 3
   },
   "file_extension": ".py",
   "mimetype": "text/x-python",
   "name": "python",
   "nbconvert_exporter": "python",
   "pygments_lexer": "ipython3",
   "version": "3.4.3"
  }
 },
 "nbformat": 4,
 "nbformat_minor": 0
}
